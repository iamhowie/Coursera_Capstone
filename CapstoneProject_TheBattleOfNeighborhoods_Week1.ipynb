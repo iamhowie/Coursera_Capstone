{
 "cells": [
  {
   "cell_type": "markdown",
   "metadata": {},
   "source": [
    "# Capstone Project - The Battle of Neighborhoods (Week 1)"
   ]
  },
  {
   "cell_type": "markdown",
   "metadata": {},
   "source": [
    "## Table of Contents\n",
    "- [Introduction](#Introduction)\n",
    "- [Data](#Data)"
   ]
  },
  {
   "cell_type": "markdown",
   "metadata": {},
   "source": [
    "## Introduction\n",
    "\n",
    "In this project, we build a predictive model of sale price for the real properties in Manhattan, New York City, USA. \n",
    "Such predictive models would be helpful to anyone who is interested in housing price prediction, such as sellers, buyers and agents of real estate.\n",
    "\n",
    "Prediction is not our only purpose. We also try to interpret what are the important factors that affect the price, and how the resulting model makes the prediction. This will help those interested people on their decision making."
   ]
  },
  {
   "cell_type": "markdown",
   "metadata": {},
   "source": [
    "## Data\n",
    "\n",
    "What are the factors that may affect the sale price of real properties? What kind of data are available for us to build the predictive model? In this project, we use the data mainly from three sources: \n",
    "1. [Property Sales Data](https://www1.nyc.gov/assets/finance/downloads/pdf/rolling_sales/annualized-sales/2018/2018_manhattan.xlsx) from NYC government website\n",
    "2. Lat & Lng Data retrieved by [Geocoder](https://geocoder.readthedocs.io/) from [OpenStreetMap](https://nominatim.openstreetmap.org/)\n",
    "3. Neighborhood Venue Data from [Foursquare](https://developer.foursquare.com/)\n",
    "\n",
    "For Property Sales Data, we use the set of last year (2018), including all the transactions in Manhattan, 2018. The columns of the data are different features of each transaction: borough, street address, tax class, sale price, etc. The sale price is our prediction target.\n",
    "\n",
    "Beside the information in Property Sales Data, there are also other factors that may affect the price, for example, nearby venues around the real property. Foursquare is a good choice of retrieving venue information. To utilize the venue information, we first map the street address in Property Sales Data to the geographical coordinate using Lat & Lng Data extracted by Geocoder, and then scrap the nearby venues from Foursquare using the Lat & Lng Data of the property.\n",
    "\n",
    "In next sections, we show how to preprocess these datasets and prepare the training data for building the predictive model."
   ]
  }
 ],
 "metadata": {
  "kernelspec": {
   "display_name": "Python 3",
   "language": "python",
   "name": "python3"
  },
  "language_info": {
   "codemirror_mode": {
    "name": "ipython",
    "version": 3
   },
   "file_extension": ".py",
   "mimetype": "text/x-python",
   "name": "python",
   "nbconvert_exporter": "python",
   "pygments_lexer": "ipython3",
   "version": "3.7.3"
  }
 },
 "nbformat": 4,
 "nbformat_minor": 4
}
